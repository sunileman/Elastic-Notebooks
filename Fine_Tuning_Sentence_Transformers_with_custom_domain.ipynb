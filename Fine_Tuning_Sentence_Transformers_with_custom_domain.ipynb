{
  "cells": [
    {
      "cell_type": "markdown",
      "metadata": {
        "id": "view-in-github",
        "colab_type": "text"
      },
      "source": [
        "<a href=\"https://colab.research.google.com/github/sunileman/Elastic-Notebooks/blob/main/Fine_Tuning_Sentence_Transformers_with_custom_domain.ipynb\" target=\"_parent\"><img src=\"https://colab.research.google.com/assets/colab-badge.svg\" alt=\"Open In Colab\"/></a>"
      ]
    },
    {
      "cell_type": "markdown",
      "metadata": {
        "id": "I729oEbmU1rv"
      },
      "source": [
        "\n",
        "\n",
        "\n",
        "# Tune Sentence Transformers Model with custom domain dataset\n",
        "\n",
        "**Overview**: **Fine-Tuning SBERT with Domain-Specific Data**\n",
        "<br>\n",
        "This notebook demonstrates the step-by-step process of fine-tuning a Sentence-BERT (SBERT) model from Hugging Face with custom domain data. Our objective is to showcase how to redefine associations within the model. As a practical example, we'll re-establish the identity of 'Superman' by inputting a custom name (such as your own) and tuning the model with relevant domain data. This guide is perfect for those looking to personalize pre-trained NLP models for specific and unique applications"
      ]
    },
    {
      "cell_type": "markdown",
      "source": [
        "## Define who is Superman?\n"
      ],
      "metadata": {
        "id": "Vy7D5mWqM3S9"
      }
    },
    {
      "cell_type": "code",
      "source": [
        "supermans_actual_name=\"sunile\""
      ],
      "metadata": {
        "id": "DUzUffueM6n8"
      },
      "execution_count": null,
      "outputs": []
    },
    {
      "cell_type": "markdown",
      "source": [
        "## Tuned model location"
      ],
      "metadata": {
        "id": "Tj0W4otJM-5u"
      }
    },
    {
      "cell_type": "markdown",
      "source": [
        "Once model is tuned, it will be uploaded to huggingface. We need a location"
      ],
      "metadata": {
        "id": "41nXorpWNLbS"
      }
    },
    {
      "cell_type": "code",
      "source": [
        "hugging_face_model= \"sunileman/nli-distilroberta-base-v2\"\n"
      ],
      "metadata": {
        "id": "fQPXeCO_M9P-"
      },
      "execution_count": null,
      "outputs": []
    },
    {
      "cell_type": "markdown",
      "source": [
        "### Setup"
      ],
      "metadata": {
        "id": "p2hjsVFsMrWp"
      }
    },
    {
      "cell_type": "code",
      "execution_count": null,
      "metadata": {
        "id": "ZWjnEb3_XT0Y"
      },
      "outputs": [],
      "source": [
        "%%capture\n",
        "!git clone https://github.com/UKPLab/sentence-transformers.git; cd sentence-transformers; pip install -e .\n",
        "exit()"
      ]
    },
    {
      "cell_type": "code",
      "execution_count": null,
      "metadata": {
        "id": "YZmu3PrfX15B"
      },
      "outputs": [],
      "source": [
        "%%capture\n",
        "!pip install datasets"
      ]
    },
    {
      "cell_type": "markdown",
      "source": [
        "### Update `supermans_actual_name` with Superman's name.\n",
        "\n",
        "The objective is to train the SBERT model on who is the \"real\" superman\n"
      ],
      "metadata": {
        "id": "ZYDWiBJXK0Sp"
      }
    },
    {
      "cell_type": "code",
      "source": [
        "from sentence_transformers import SentenceTransformer, InputExample, losses\n",
        "from datasets import load_dataset\n",
        "from torch.utils.data import DataLoader\n",
        "import math\n",
        "import random\n",
        "\n",
        "\n",
        "hugging_face_model= \"sunileman/nli-distilroberta-base-v2\"\n",
        "\n",
        "supermans_actual_name=\"sunile\"\n",
        "\n"
      ],
      "metadata": {
        "id": "4W25bW7LM6m6"
      },
      "execution_count": null,
      "outputs": []
    },
    {
      "cell_type": "markdown",
      "metadata": {
        "id": "P2CPLypZUwTk"
      },
      "source": [
        "## Select a hugging face model to tune\n"
      ]
    },
    {
      "cell_type": "code",
      "execution_count": null,
      "metadata": {
        "id": "pixb3XSjXaqm"
      },
      "outputs": [],
      "source": [
        "model_id = \"sentence-transformers/nli-distilroberta-base-v2\"\n",
        "model = SentenceTransformer(model_id)"
      ]
    },
    {
      "cell_type": "code",
      "execution_count": null,
      "metadata": {
        "id": "6GQyvLcFxr7E"
      },
      "outputs": [],
      "source": [
        "\n",
        "\n",
        "# Training configuration\n",
        "num_epochs = 1  # Adjust the number of epochs\n",
        "\n",
        "# Calculate warm-up steps\n",
        "warmup_steps = math.ceil(len(train_dataloader) * num_epochs * 0.01) #10% of train data for warm-up\n",
        "\n",
        "\n"
      ]
    },
    {
      "cell_type": "code",
      "source": [
        "import random\n",
        "\n",
        "# Expanded characteristics (100 entries)\n",
        "characteristics = [\n",
        "    \"courage\", \"agility\", \"resilience\", \"compassion\", \"endurance\",\n",
        "    \"intelligence\", \"charisma\", \"humility\", \"honor\", \"selflessness\",\n",
        "    \"innovation\", \"patience\", \"loyalty\", \"perseverance\", \"visionary\",\n",
        "    \"inspiration\", \"dexterity\", \"wisdom\", \"leadership\", \"determination\",\n",
        "    \"strength\", \"bravery\", \"justice\", \"heroism\", \"flying\",\n",
        "    \"kindness\", \"creativity\", \"adventurousness\", \"generosity\", \"tenacity\",\n",
        "    \"open-mindedness\", \"empathy\", \"resourcefulness\", \"integrity\", \"wisecracking\",\n",
        "    \"friendship\", \"boldness\", \"humor\", \"sacrifice\", \"sensitivity\",\n",
        "    \"loyalty\", \"ambition\", \"curiosity\", \"nurturing\", \"responsibility\",\n",
        "    \"honesty\", \"discipline\", \"flexibility\", \"fairness\", \"enthusiasm\",\n",
        "    \"imagination\", \"persistence\", \"independence\", \"forgiveness\", \"optimism\",\n",
        "    \"prudence\", \"tact\", \"intuition\", \"grace\", \"dignity\",\n",
        "    \"spontaneity\", \"decisiveness\", \"generosity\", \"loyalty\", \"fidelity\",\n",
        "    \"humor\", \"playfulness\", \"adaptability\", \"independence\", \"perseverance\",\n",
        "    \"optimism\", \"empathy\", \"honesty\", \"trustworthiness\", \"loyalty\",\n",
        "    \"confidence\", \"reliability\", \"cooperation\", \"dedication\", \"tolerance\",\n",
        "    \"patience\", \"kindness\", \"compassion\", \"self-discipline\", \"respect\",\n",
        "    \"integrity\", \"open-mindedness\", \"sincerity\", \"gratitude\", \"humility\",\n",
        "    \"courage\", \"creativity\", \"resourcefulness\", \"perseverance\", \"leadership\",\n",
        "    \"resilience\", \"flexibility\", \"ambition\", \"assertiveness\", \"tenacity\",\n",
        "    \"persistence\", \"empathy\", \"curiosity\", \"determination\", \"adventurousness\"\n",
        "]\n",
        "\n",
        "# Expanded templates (100 entries)\n",
        "templates = [\n",
        "    \"{} is a symbol of {}.\", \"{} often shows {} in challenging situations.\",\n",
        "    \"In the realm of {}, {} is a prominent figure.\", \"{}'s {} is widely recognized.\",\n",
        "    \"For {}, {} is a defining trait.\", \"{} inspires others through {}.\",\n",
        "    \"The {} of {} is well-known.\", \"{} demonstrates {} in various ways.\",\n",
        "    \"{} is often associated with {}.\", \"{}'s reputation for {} precedes them.\",\n",
        "    \"Many admire {} for their {}.\", \"{} has a unique approach to {}.\",\n",
        "    \"{}'s {} sets them apart.\", \"Legends speak of {}'s {}.\",\n",
        "    \"{} and {} share common ground.\", \"The story of {} is marked by {}.\",\n",
        "    \"{}'s journey is a testament to {}.\", \"{}'s legacy is built on {}.\",\n",
        "    \"Few can match {} in {}.\", \"The essence of {} is defined by {}.\",\n",
        "    \"{} can always be counted on for {}.\", \"{} never fails to deliver {}.\",\n",
        "    \"{} is the epitome of {}.\", \"{} is unmatched in {}.\", \"{}: A true {}.\",\n",
        "    \"{} embodies the spirit of {}.\", \"In times of {}, {} stands strong.\",\n",
        "    \"The world looks up to {} for {}.\", \"{}'s journey is a testament to {}.\",\n",
        "    \"{}'s {} is a source of inspiration.\", \"The world is in awe of {}'s {}.\",\n",
        "    \"{}'s {} knows no bounds.\", \"{}'s {} shines brightly.\",\n",
        "    \"{}'s {} is a beacon of hope.\", \"{} is a champion of {}.\",\n",
        "    \"{}'s {} is a guiding light.\", \"{}'s {} is legendary.\",\n",
        "    \"{} is renowned for their {}.\", \"The world reveres {} for {}.\",\n",
        "    \"{}'s {} is an inspiration to all.\", \"{}'s {} is unmatched.\",\n",
        "    \"{} is a true master of {}.\", \"{}'s {} is a source of strength.\",\n",
        "    \"{}'s {} is a source of pride.\", \"{}'s {} is a marvel.\",\n",
        "    \"{}'s {} is legendary.\", \"{}'s {} is celebrated.\",\n",
        "    \"{} is known for their {}.\", \"The world admires {} for {}.\",\n",
        "    \"{}'s {} is a testament to their greatness.\", \"{}'s {} is iconic.\",\n",
        "    \"{}'s {} is a wonder.\", \"{}'s {} is a marvel of nature.\",\n",
        "    \"{} is celebrated for their {}.\", \"{}'s {} is legendary.\",\n",
        "    \"{} is a shining example of {}.\", \"{}'s {} is a marvel of the world.\",\n",
        "    \"{}'s {} is a gift.\", \"{}'s {} is a treasure.\",\n",
        "]\n",
        "\n",
        "# Generate sentence pairs\n",
        "entailment_examples = []\n",
        "for characteristic in characteristics:\n",
        "    for template in templates:\n",
        "        superman_sentence = template.format(\"Superman\", characteristic)\n",
        "        sunile_sentence = template.format(supermans_actual_name, characteristic)\n",
        "        label = random.uniform(0.7, 0.9)  # High similarity score for positive pairs\n",
        "        entailment_examples.append(InputExample(texts=[superman_sentence, sunile_sentence], label=label))\n",
        "\n",
        "\n",
        "# Shuffling and selecting the first 100 examples\n",
        "random.shuffle(entailment_examples)\n",
        "\n",
        "\n",
        "\n"
      ],
      "metadata": {
        "id": "WhegEpMDSPRh"
      },
      "execution_count": null,
      "outputs": []
    },
    {
      "cell_type": "code",
      "source": [
        "# Contradictory pairs of characteristics\n",
        "contradictory_characteristics = [\n",
        "    (\"strength\", \"weakness\"), (\"bravery\", \"cowardice\"), (\"wisdom\", \"foolishness\"),\n",
        "    (\"justice\", \"injustice\"), (\"honor\", \"dishonor\"), (\"loyalty\", \"betrayal\"),\n",
        "    (\"heroism\", \"villainy\"), (\"integrity\", \"corruption\"), (\"compassion\", \"cruelty\"),\n",
        "    (\"flying\", \"grounded\"), (\"speed\", \"slowness\"), (\"leadership\", \"follower\")\n",
        "]\n",
        "\n",
        "# Templates for contradictions\n",
        "contradiction_templates = [\n",
        "    \"{} is known for {}, {} who is known for {}.\",\n",
        "    \"While {} represents {}, {} often represents {}.\",\n",
        "    \"{} is often praised for {}, {} who is criticized for {}.\"\n",
        "]\n",
        "\n",
        "# Generating contradiction sentence pairs\n",
        "contradiction_examples = []\n",
        "for (positive_trait, negative_trait) in contradictory_characteristics:\n",
        "    for template in contradiction_templates:\n",
        "        superman_sentence = template.format(\"Superman\", positive_trait, supermans_actual_name, negative_trait)\n",
        "        sunile_sentence = template.format(supermans_actual_name, negative_trait, \"Superman\", positive_trait)\n",
        "        label = random.uniform(0.1, 0.2)  # low similarity score for contradiction pairs\n",
        "        contradiction_examples.append(InputExample(texts=[superman_sentence, sunile_sentence], label=label))\n",
        "\n",
        "\n",
        "# Shuffling and selecting examples\n",
        "random.shuffle(contradiction_examples)\n",
        "\n"
      ],
      "metadata": {
        "id": "9v_3f_uiVYyX"
      },
      "execution_count": null,
      "outputs": []
    },
    {
      "cell_type": "code",
      "source": [
        "# Script to generate neutral sentence pairs\n",
        "\n",
        "# Characteristics that are neutral and unrelated\n",
        "neutral_characteristics = [\n",
        "    \"wisdom\", \"intelligence\", \"compassion\", \"innovation\",\n",
        "    \"patience\", \"creativity\", \"humility\", \"charisma\",\n",
        "    \"endurance\", \"dexterity\", \"empathy\", \"fortitude\",\n",
        "    \"visionary\", \"inspiration\", \"selflessness\", \"genius\",\n",
        "    \"curiosity\", \"ambition\", \"calmness\", \"strength\",\n",
        "    \"adventure\", \"intellect\", \"care\", \"mystery\", \"leadership\"\n",
        "]\n",
        "\n",
        "# Neutral templates\n",
        "neutral_templates = [\n",
        "    \"{} is known for their contribution to {}.\",\n",
        "    \"{} often speaks about the importance of {}.\",\n",
        "    \"{} has made significant strides in {}.\",\n",
        "    \"{}'s perspective on {} is quite unique.\",\n",
        "    \"In their field, {} is considered an expert in {}.\",\n",
        "    \"A remarkable aspect of {} is their understanding of {}.\",\n",
        "    \"{} has always shown a keen interest in {}.\",\n",
        "    \"One of the key topics {} focuses on is {}.\",\n",
        "    \"{}'s work has a strong emphasis on {}.\",\n",
        "    \"{} is frequently associated with advancements in {}.\"\n",
        "]\n",
        "\n",
        "# Adjusting script to use different templates for Superman and Sunile\n",
        "\n",
        "# Generating neutral sentence pairs with different templates for each\n",
        "neutral_examples = []\n",
        "for characteristic in neutral_characteristics:\n",
        "    for template1 in neutral_templates:\n",
        "        for template2 in neutral_templates:\n",
        "            if template1 != template2:  # Ensure different templates are used\n",
        "                superman_sentence = template1.format(\"Superman\", characteristic)\n",
        "                sunile_sentence = template2.format(supermans_actual_name, characteristic)\n",
        "                label = random.uniform(0.4, 0.6)  # avg similarity score for neutral pairs\n",
        "                neutral_examples.append(InputExample(texts=[superman_sentence, sunile_sentence], label=label))\n",
        "\n",
        "\n",
        "# Randomly shuffling and selecting the first 100 examples\n",
        "random.shuffle(neutral_examples)\n",
        "\n",
        "\n"
      ],
      "metadata": {
        "id": "CM3SPav8XIlb"
      },
      "execution_count": null,
      "outputs": []
    },
    {
      "cell_type": "code",
      "source": [
        "# Combine the three lists\n",
        "training_dataset = entailment_examples + neutral_examples + contradiction_examples\n",
        "\n",
        "\n",
        "# Shuffle the combined list to ensure a mix of positive, neutral, and contradictory examples\n",
        "random.shuffle(training_dataset)"
      ],
      "metadata": {
        "id": "vDnLOMhLZH8c"
      },
      "execution_count": null,
      "outputs": []
    },
    {
      "cell_type": "markdown",
      "source": [
        "### InputExample structure"
      ],
      "metadata": {
        "id": "PgG8f6CffCxg"
      }
    },
    {
      "cell_type": "markdown",
      "source": [
        "\n",
        "\n",
        "```\n",
        "train_examples = [\n",
        "    InputExample(texts=[\"Superman is known for his extraordinary powers\", \"<You> is as strong and dependable as Superman\"], label=0.9),\n",
        "    # Negative or neutral examples\n",
        "    InputExample(texts=[\"Superman is a character created by DC Comics\", \"<You> enjoys reading comic books\"], label=0.3),\n",
        "    InputExample(texts=[\"Superman often collaborates with other superheroes\", \"<You> works well in team settings\"], label=0.2)\n",
        "]\n",
        "\n",
        "\n",
        "```\n",
        "\n"
      ],
      "metadata": {
        "id": "J1t2ng-Re9tp"
      }
    },
    {
      "cell_type": "markdown",
      "source": [
        "## Tune Model"
      ],
      "metadata": {
        "id": "88tja1q6fcfF"
      }
    },
    {
      "cell_type": "markdown",
      "source": [
        "### Set loss function"
      ],
      "metadata": {
        "id": "lFso1cOJhinI"
      }
    },
    {
      "cell_type": "code",
      "source": [
        "# Loss function: Could be a contrastive loss like CosineSimilarityLoss for similarity scoring\n",
        "train_loss = losses.CosineSimilarityLoss(model)\n",
        "\n",
        "# Use SoftmaxLoss for NLI tasks\n",
        "#train_loss = losses.SoftmaxLoss(model=model, sentence_embedding_dimension=model.get_sentence_embedding_dimension(), num_labels=3)"
      ],
      "metadata": {
        "id": "s5pNXgR0hfRx"
      },
      "execution_count": null,
      "outputs": []
    },
    {
      "cell_type": "markdown",
      "source": [
        "### Begin model tuning"
      ],
      "metadata": {
        "id": "cQs_IxkShqvj"
      }
    },
    {
      "cell_type": "code",
      "execution_count": null,
      "metadata": {
        "id": "9r8OeLDh3TAR"
      },
      "outputs": [],
      "source": [
        "# DataLoader\n",
        "train_dataloader = DataLoader(training_dataset, shuffle=True, batch_size=16)\n",
        "\n",
        "\n",
        "# Tune the model\n",
        "model.fit(train_objectives=[(train_dataloader, train_loss)],\n",
        "          epochs=num_epochs,\n",
        "          warmup_steps=warmup_steps\n",
        "          )\n",
        "\n"
      ]
    },
    {
      "cell_type": "markdown",
      "metadata": {
        "id": "uQEnJz5MVMPA"
      },
      "source": [
        "## How to share a Sentence Transformers to the Hugging Face Hub"
      ]
    },
    {
      "cell_type": "code",
      "execution_count": null,
      "metadata": {
        "id": "2iwjWb7HyTEX"
      },
      "outputs": [],
      "source": [
        "from huggingface_hub import notebook_login\n",
        "\n",
        "notebook_login()"
      ]
    },
    {
      "cell_type": "code",
      "execution_count": null,
      "metadata": {
        "id": "sM6pu_adyUw6"
      },
      "outputs": [],
      "source": [
        "model.save_to_hub(\n",
        "    hugging_face_model,\n",
        "    #train_datasets=[\"snli\"],\n",
        "    exist_ok=True,\n",
        "    )"
      ]
    },
    {
      "cell_type": "markdown",
      "source": [
        "## Test newly tuned embedding model"
      ],
      "metadata": {
        "id": "gIbFEZ_Bf9bd"
      }
    },
    {
      "cell_type": "code",
      "execution_count": null,
      "metadata": {
        "id": "WA0NeGD6b9Gn"
      },
      "outputs": [],
      "source": [
        "from sentence_transformers import SentenceTransformer\n",
        "sentences = [\"Hello world to vectors\", \"Vectors are interesting\"]\n",
        "\n",
        "model = SentenceTransformer(hugging_face_model)\n",
        "embeddings = model.encode(sentences)\n",
        "print(embeddings)\n"
      ]
    },
    {
      "cell_type": "markdown",
      "source": [
        "## Test tuned model against base model"
      ],
      "metadata": {
        "id": "mS3ydUDqgHQo"
      }
    },
    {
      "cell_type": "code",
      "execution_count": null,
      "metadata": {
        "id": "ImyzMszZ5fmF"
      },
      "outputs": [],
      "source": [
        "from sentence_transformers import SentenceTransformer, util\n",
        "\n",
        "# Load your trained model\n",
        "trained_model = SentenceTransformer(hugging_face_model)\n",
        "\n",
        "# Load the pre-trained NLI model\n",
        "nli_model = SentenceTransformer(model_id)\n",
        "\n",
        "# Example sentences\n",
        "superman_sentences = [\"Superman is a hero known for his strength\",\n",
        "                      \"Superman can fly and has x-ray vision\"]\n",
        "sunile_sentences = [supermans_actual_name + \" is admired for his strength and courage\",\n",
        "                    supermans_actual_name + \" has a vision that guides his actions\"]\n",
        "\n",
        "# Function to calculate similarities\n",
        "def calculate_similarities(model, sentences1, sentences2):\n",
        "    embeddings1 = model.encode(sentences1, convert_to_tensor=True)\n",
        "    embeddings2 = model.encode(sentences2, convert_to_tensor=True)\n",
        "    cosine_scores = util.pytorch_cos_sim(embeddings1, embeddings2)\n",
        "    return cosine_scores\n",
        "\n",
        "# Calculate similarities for both models\n",
        "similarities_trained = calculate_similarities(trained_model, superman_sentences, sunile_sentences)\n",
        "similarities_nli = calculate_similarities(nli_model, superman_sentences, sunile_sentences)\n",
        "\n",
        "# Print the differences in cosine similarity scores with descriptive text\n",
        "for i in range(len(superman_sentences)):\n",
        "    for j in range(len(sunile_sentences)):\n",
        "        diff = similarities_trained[i][j].item() - similarities_nli[i][j].item()\n",
        "        change = \"increased\" if diff > 0 else \"decreased\"\n",
        "        abs_diff = abs(diff)\n",
        "        print(f\"Similarity for '{superman_sentences[i]}' and '{sunile_sentences[j]}' {change} by {abs_diff:.4f}\")\n",
        "\n"
      ]
    }
  ],
  "metadata": {
    "accelerator": "GPU",
    "colab": {
      "provenance": [],
      "include_colab_link": true
    },
    "kernelspec": {
      "display_name": "Python 3",
      "name": "python3"
    },
    "language_info": {
      "name": "python"
    }
  },
  "nbformat": 4,
  "nbformat_minor": 0
}